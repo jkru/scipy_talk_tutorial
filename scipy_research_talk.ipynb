{
 "cells": [
  {
   "cell_type": "markdown",
   "metadata": {},
   "source": [
    "#The Iris Data Set\n",
    "##The iris dataset is part of the datasets module of scikit-learn. These data are comprised of measurements of features of three different species of irises."
   ]
  },
  {
   "cell_type": "code",
   "execution_count": 37,
   "metadata": {
    "collapsed": true
   },
   "outputs": [],
   "source": [
    "%matplotlib inline\n",
    "import matplotlib.pyplot as plt\n",
    "import numpy as np"
   ]
  },
  {
   "cell_type": "markdown",
   "metadata": {},
   "source": [
    "###Iris Setosa\n",
    "\n",
    "![Setosa](figures/iris_setosa.jpg)\n",
    "\n",
    "###Iris Versicolor\n",
    "![Versicolor](figures/iris_versicolor.jpg)\n",
    "\n",
    "###Iris Virginica\n",
    "![Virginica](figures/iris_virginica.jpg)\n"
   ]
  },
  {
   "cell_type": "markdown",
   "metadata": {},
   "source": [
    "###so let's classify flowers into these three species based on data we have on their features:\n",
    "* sepal length\n",
    "* sepal width\n",
    "* petal length\n",
    "* petal width"
   ]
  },
  {
   "cell_type": "markdown",
   "metadata": {},
   "source": [
    "<img src=\"figures/petal_sepal.jpg\" alt=\"Sepal\" style=\"width: 400px;\"/>\n",
    "\n",
    "\"Petal-sepal\". Licensed under CC BY-SA 3.0 via Wikimedia Commons - https://commons.wikimedia.org/wiki/File:Petal-sepal.jpg#/media/File:Petal-sepal.jpg"
   ]
  },
  {
   "cell_type": "code",
   "execution_count": 38,
   "metadata": {
    "collapsed": false
   },
   "outputs": [],
   "source": [
    "from sklearn.datasets import load_iris\n",
    "iris = load_iris()"
   ]
  },
  {
   "cell_type": "code",
   "execution_count": 39,
   "metadata": {
    "collapsed": false
   },
   "outputs": [
    {
     "name": "stdout",
     "output_type": "stream",
     "text": [
      "Iris Plants Database\n",
      "\n",
      "Notes\n",
      "-----\n",
      "Data Set Characteristics:\n",
      "    :Number of Instances: 150 (50 in each of three classes)\n",
      "    :Number of Attributes: 4 numeric, predictive attributes and the class\n",
      "    :Attribute Information:\n",
      "        - sepal length in cm\n",
      "        - sepal width in cm\n",
      "        - petal length in cm\n",
      "        - petal width in cm\n",
      "        - class:\n",
      "                - Iris-Setosa\n",
      "                - Iris-Versicolour\n",
      "                - Iris-Virginica\n",
      "    :Summary Statistics:\n",
      "    ============== ==== ==== ======= ===== ====================\n",
      "                    Min  Max   Mean    SD   Class Correlation\n",
      "    ============== ==== ==== ======= ===== ====================\n",
      "    sepal length:   4.3  7.9   5.84   0.83    0.7826\n",
      "    sepal width:    2.0  4.4   3.05   0.43   -0.4194\n",
      "    petal length:   1.0  6.9   3.76   1.76    0.9490  (high!)\n",
      "    petal width:    0.1  2.5   1.20  0.76     0.9565  (high!)\n",
      "    ============== ==== ==== ======= ===== ====================\n",
      "    :Missing Attribute Values: None\n",
      "    :Class Distribution: 33.3% for each of 3 classes.\n",
      "    :Creator: R.A. Fisher\n",
      "    :Donor: Michael Marshall (MARSHALL%PLU@io.arc.nasa.gov)\n",
      "    :Date: July, 1988\n",
      "\n",
      "This is a copy of UCI ML iris datasets.\n",
      "http://archive.ics.uci.edu/ml/datasets/Iris\n",
      "\n",
      "The famous Iris database, first used by Sir R.A Fisher\n",
      "\n",
      "This is perhaps the best known database to be found in the\n",
      "pattern recognition literature.  Fisher's paper is a classic in the field and\n",
      "is referenced frequently to this day.  (See Duda & Hart, for example.)  The\n",
      "data set contains 3 classes of 50 instances each, where each class refers to a\n",
      "type of iris plant.  One class is linearly separable from the other 2; the\n",
      "latter are NOT linearly separable from each other.\n",
      "\n",
      "References\n",
      "----------\n",
      "   - Fisher,R.A. \"The use of multiple measurements in taxonomic problems\"\n",
      "     Annual Eugenics, 7, Part II, 179-188 (1936); also in \"Contributions to\n",
      "     Mathematical Statistics\" (John Wiley, NY, 1950).\n",
      "   - Duda,R.O., & Hart,P.E. (1973) Pattern Classification and Scene Analysis.\n",
      "     (Q327.D83) John Wiley & Sons.  ISBN 0-471-22361-1.  See page 218.\n",
      "   - Dasarathy, B.V. (1980) \"Nosing Around the Neighborhood: A New System\n",
      "     Structure and Classification Rule for Recognition in Partially Exposed\n",
      "     Environments\".  IEEE Transactions on Pattern Analysis and Machine\n",
      "     Intelligence, Vol. PAMI-2, No. 1, 67-71.\n",
      "   - Gates, G.W. (1972) \"The Reduced Nearest Neighbor Rule\".  IEEE Transactions\n",
      "     on Information Theory, May 1972, 431-433.\n",
      "   - See also: 1988 MLC Proceedings, 54-64.  Cheeseman et al\"s AUTOCLASS II\n",
      "     conceptual clustering system finds 3 classes in the data.\n",
      "   - Many, many more ...\n",
      "\n"
     ]
    }
   ],
   "source": [
    "print(iris.DESCR)"
   ]
  },
  {
   "cell_type": "code",
   "execution_count": 40,
   "metadata": {
    "collapsed": false
   },
   "outputs": [
    {
     "name": "stdout",
     "output_type": "stream",
     "text": [
      "(150, 4)\n"
     ]
    }
   ],
   "source": [
    "print(iris.data.shape)"
   ]
  },
  {
   "cell_type": "code",
   "execution_count": 41,
   "metadata": {
    "collapsed": false
   },
   "outputs": [
    {
     "name": "stdout",
     "output_type": "stream",
     "text": [
      "[[ 5.1  3.5  1.4  0.2]\n",
      " [ 4.9  3.   1.4  0.2]\n",
      " [ 4.7  3.2  1.3  0.2]\n",
      " [ 4.6  3.1  1.5  0.2]\n",
      " [ 5.   3.6  1.4  0.2]\n",
      " [ 5.4  3.9  1.7  0.4]\n",
      " [ 4.6  3.4  1.4  0.3]\n",
      " [ 5.   3.4  1.5  0.2]\n",
      " [ 4.4  2.9  1.4  0.2]\n",
      " [ 4.9  3.1  1.5  0.1]\n",
      " [ 5.4  3.7  1.5  0.2]\n",
      " [ 4.8  3.4  1.6  0.2]\n",
      " [ 4.8  3.   1.4  0.1]\n",
      " [ 4.3  3.   1.1  0.1]\n",
      " [ 5.8  4.   1.2  0.2]\n",
      " [ 5.7  4.4  1.5  0.4]\n",
      " [ 5.4  3.9  1.3  0.4]\n",
      " [ 5.1  3.5  1.4  0.3]\n",
      " [ 5.7  3.8  1.7  0.3]\n",
      " [ 5.1  3.8  1.5  0.3]\n",
      " [ 5.4  3.4  1.7  0.2]\n",
      " [ 5.1  3.7  1.5  0.4]\n",
      " [ 4.6  3.6  1.   0.2]\n",
      " [ 5.1  3.3  1.7  0.5]\n",
      " [ 4.8  3.4  1.9  0.2]\n",
      " [ 5.   3.   1.6  0.2]\n",
      " [ 5.   3.4  1.6  0.4]\n",
      " [ 5.2  3.5  1.5  0.2]\n",
      " [ 5.2  3.4  1.4  0.2]\n",
      " [ 4.7  3.2  1.6  0.2]\n",
      " [ 4.8  3.1  1.6  0.2]\n",
      " [ 5.4  3.4  1.5  0.4]\n",
      " [ 5.2  4.1  1.5  0.1]\n",
      " [ 5.5  4.2  1.4  0.2]\n",
      " [ 4.9  3.1  1.5  0.1]\n",
      " [ 5.   3.2  1.2  0.2]\n",
      " [ 5.5  3.5  1.3  0.2]\n",
      " [ 4.9  3.1  1.5  0.1]\n",
      " [ 4.4  3.   1.3  0.2]\n",
      " [ 5.1  3.4  1.5  0.2]\n",
      " [ 5.   3.5  1.3  0.3]\n",
      " [ 4.5  2.3  1.3  0.3]\n",
      " [ 4.4  3.2  1.3  0.2]\n",
      " [ 5.   3.5  1.6  0.6]\n",
      " [ 5.1  3.8  1.9  0.4]\n",
      " [ 4.8  3.   1.4  0.3]\n",
      " [ 5.1  3.8  1.6  0.2]\n",
      " [ 4.6  3.2  1.4  0.2]\n",
      " [ 5.3  3.7  1.5  0.2]\n",
      " [ 5.   3.3  1.4  0.2]\n",
      " [ 7.   3.2  4.7  1.4]\n",
      " [ 6.4  3.2  4.5  1.5]\n",
      " [ 6.9  3.1  4.9  1.5]\n",
      " [ 5.5  2.3  4.   1.3]\n",
      " [ 6.5  2.8  4.6  1.5]\n",
      " [ 5.7  2.8  4.5  1.3]\n",
      " [ 6.3  3.3  4.7  1.6]\n",
      " [ 4.9  2.4  3.3  1. ]\n",
      " [ 6.6  2.9  4.6  1.3]\n",
      " [ 5.2  2.7  3.9  1.4]\n",
      " [ 5.   2.   3.5  1. ]\n",
      " [ 5.9  3.   4.2  1.5]\n",
      " [ 6.   2.2  4.   1. ]\n",
      " [ 6.1  2.9  4.7  1.4]\n",
      " [ 5.6  2.9  3.6  1.3]\n",
      " [ 6.7  3.1  4.4  1.4]\n",
      " [ 5.6  3.   4.5  1.5]\n",
      " [ 5.8  2.7  4.1  1. ]\n",
      " [ 6.2  2.2  4.5  1.5]\n",
      " [ 5.6  2.5  3.9  1.1]\n",
      " [ 5.9  3.2  4.8  1.8]\n",
      " [ 6.1  2.8  4.   1.3]\n",
      " [ 6.3  2.5  4.9  1.5]\n",
      " [ 6.1  2.8  4.7  1.2]\n",
      " [ 6.4  2.9  4.3  1.3]\n",
      " [ 6.6  3.   4.4  1.4]\n",
      " [ 6.8  2.8  4.8  1.4]\n",
      " [ 6.7  3.   5.   1.7]\n",
      " [ 6.   2.9  4.5  1.5]\n",
      " [ 5.7  2.6  3.5  1. ]\n",
      " [ 5.5  2.4  3.8  1.1]\n",
      " [ 5.5  2.4  3.7  1. ]\n",
      " [ 5.8  2.7  3.9  1.2]\n",
      " [ 6.   2.7  5.1  1.6]\n",
      " [ 5.4  3.   4.5  1.5]\n",
      " [ 6.   3.4  4.5  1.6]\n",
      " [ 6.7  3.1  4.7  1.5]\n",
      " [ 6.3  2.3  4.4  1.3]\n",
      " [ 5.6  3.   4.1  1.3]\n",
      " [ 5.5  2.5  4.   1.3]\n",
      " [ 5.5  2.6  4.4  1.2]\n",
      " [ 6.1  3.   4.6  1.4]\n",
      " [ 5.8  2.6  4.   1.2]\n",
      " [ 5.   2.3  3.3  1. ]\n",
      " [ 5.6  2.7  4.2  1.3]\n",
      " [ 5.7  3.   4.2  1.2]\n",
      " [ 5.7  2.9  4.2  1.3]\n",
      " [ 6.2  2.9  4.3  1.3]\n",
      " [ 5.1  2.5  3.   1.1]\n",
      " [ 5.7  2.8  4.1  1.3]\n",
      " [ 6.3  3.3  6.   2.5]\n",
      " [ 5.8  2.7  5.1  1.9]\n",
      " [ 7.1  3.   5.9  2.1]\n",
      " [ 6.3  2.9  5.6  1.8]\n",
      " [ 6.5  3.   5.8  2.2]\n",
      " [ 7.6  3.   6.6  2.1]\n",
      " [ 4.9  2.5  4.5  1.7]\n",
      " [ 7.3  2.9  6.3  1.8]\n",
      " [ 6.7  2.5  5.8  1.8]\n",
      " [ 7.2  3.6  6.1  2.5]\n",
      " [ 6.5  3.2  5.1  2. ]\n",
      " [ 6.4  2.7  5.3  1.9]\n",
      " [ 6.8  3.   5.5  2.1]\n",
      " [ 5.7  2.5  5.   2. ]\n",
      " [ 5.8  2.8  5.1  2.4]\n",
      " [ 6.4  3.2  5.3  2.3]\n",
      " [ 6.5  3.   5.5  1.8]\n",
      " [ 7.7  3.8  6.7  2.2]\n",
      " [ 7.7  2.6  6.9  2.3]\n",
      " [ 6.   2.2  5.   1.5]\n",
      " [ 6.9  3.2  5.7  2.3]\n",
      " [ 5.6  2.8  4.9  2. ]\n",
      " [ 7.7  2.8  6.7  2. ]\n",
      " [ 6.3  2.7  4.9  1.8]\n",
      " [ 6.7  3.3  5.7  2.1]\n",
      " [ 7.2  3.2  6.   1.8]\n",
      " [ 6.2  2.8  4.8  1.8]\n",
      " [ 6.1  3.   4.9  1.8]\n",
      " [ 6.4  2.8  5.6  2.1]\n",
      " [ 7.2  3.   5.8  1.6]\n",
      " [ 7.4  2.8  6.1  1.9]\n",
      " [ 7.9  3.8  6.4  2. ]\n",
      " [ 6.4  2.8  5.6  2.2]\n",
      " [ 6.3  2.8  5.1  1.5]\n",
      " [ 6.1  2.6  5.6  1.4]\n",
      " [ 7.7  3.   6.1  2.3]\n",
      " [ 6.3  3.4  5.6  2.4]\n",
      " [ 6.4  3.1  5.5  1.8]\n",
      " [ 6.   3.   4.8  1.8]\n",
      " [ 6.9  3.1  5.4  2.1]\n",
      " [ 6.7  3.1  5.6  2.4]\n",
      " [ 6.9  3.1  5.1  2.3]\n",
      " [ 5.8  2.7  5.1  1.9]\n",
      " [ 6.8  3.2  5.9  2.3]\n",
      " [ 6.7  3.3  5.7  2.5]\n",
      " [ 6.7  3.   5.2  2.3]\n",
      " [ 6.3  2.5  5.   1.9]\n",
      " [ 6.5  3.   5.2  2. ]\n",
      " [ 6.2  3.4  5.4  2.3]\n",
      " [ 5.9  3.   5.1  1.8]]\n"
     ]
    }
   ],
   "source": [
    "print(iris.data)"
   ]
  },
  {
   "cell_type": "markdown",
   "metadata": {},
   "source": [
    "Load the data and the targets into arrays"
   ]
  },
  {
   "cell_type": "code",
   "execution_count": 42,
   "metadata": {
    "collapsed": true
   },
   "outputs": [],
   "source": [
    "X=iris.data\n",
    "y=iris.target"
   ]
  },
  {
   "cell_type": "markdown",
   "metadata": {},
   "source": [
    "Let's look at the data:"
   ]
  },
  {
   "cell_type": "code",
   "execution_count": 48,
   "metadata": {
    "collapsed": false
   },
   "outputs": [],
   "source": [
    "#print(y)\n",
    "#print(X)"
   ]
  },
  {
   "cell_type": "markdown",
   "metadata": {},
   "source": [
    "Shuffle the data so the split between training and testing data is random"
   ]
  },
  {
   "cell_type": "code",
   "execution_count": 44,
   "metadata": {
    "collapsed": false
   },
   "outputs": [
    {
     "name": "stdout",
     "output_type": "stream",
     "text": [
      "[2 1 0 2 0 2 0 1 1 1 2 1 1 1 1 0 1 1 0 0 2 1 0 0 2 0 0 1 1 0 2 1 0 2 2 1 0\n",
      " 1 1 1 2 0 2 0 0 1 2 2 2 2 1 2 1 1 2 2 2 2 1 2 1 0 2 1 1 1 1 2 0 0 2 1 0 0\n",
      " 1 0 2 1 0 1 2 1 0 2 2 2 2 0 0 2 2 0 2 0 2 2 0 0 2 0 0 0 1 2 2 0 0 0 1 1 0\n",
      " 0 1 0 2 1 2 1 0 2 0 2 0 0 2 0 2 1 1 1 2 2 1 1 0 1 2 2 0 1 1 1 1 0 0 0 2 1\n",
      " 2 0]\n"
     ]
    }
   ],
   "source": [
    "import numpy as np\n",
    "rng = np.random.RandomState(0)\n",
    "\n",
    "permutation = rng.permutation(len(X))\n",
    "X = X[permutation]\n",
    "y = y[permutation]\n",
    "print(y)"
   ]
  },
  {
   "cell_type": "markdown",
   "metadata": {},
   "source": [
    "Now we need to split the data into training and testing. train_test_split is a function that takes the data set and splits it into two arrays. "
   ]
  },
  {
   "cell_type": "markdown",
   "metadata": {},
   "source": [
    "from sklearn.cross_validation import train_test_split\n",
    "train_X, test_X, train_y, test_y = train_test_split(X, y, train_size=0.5, random_state=1999)\n",
    "print(\"Labels for training and testing data\")\n",
    "print(train_y)\n",
    "print(test_y)"
   ]
  },
  {
   "cell_type": "code",
   "execution_count": 45,
   "metadata": {
    "collapsed": false
   },
   "outputs": [],
   "source": [
    "from sklearn.cross_validation import train_test_split\n",
    "train_X, test_X, train_y, test_y = train_test_split(X, y, train_size=0.5, random_state=1999)\n"
   ]
  },
  {
   "cell_type": "code",
   "execution_count": 46,
   "metadata": {
    "collapsed": false
   },
   "outputs": [
    {
     "data": {
      "text/plain": [
       "[array([[ 5. ,  3.5,  1.3,  0.3],\n",
       "        [ 5. ,  2.3,  3.3,  1. ],\n",
       "        [ 5.2,  2.7,  3.9,  1.4],\n",
       "        [ 6.5,  3. ,  5.8,  2.2],\n",
       "        [ 6.9,  3.1,  5.1,  2.3],\n",
       "        [ 7.2,  3. ,  5.8,  1.6],\n",
       "        [ 5. ,  3. ,  1.6,  0.2],\n",
       "        [ 6.5,  3. ,  5.5,  1.8],\n",
       "        [ 6.3,  3.3,  6. ,  2.5],\n",
       "        [ 5.9,  3. ,  4.2,  1.5],\n",
       "        [ 6.7,  3. ,  5. ,  1.7],\n",
       "        [ 6.3,  2.9,  5.6,  1.8],\n",
       "        [ 7.9,  3.8,  6.4,  2. ],\n",
       "        [ 6.9,  3.1,  4.9,  1.5],\n",
       "        [ 6. ,  2.2,  4. ,  1. ],\n",
       "        [ 5.8,  2.6,  4. ,  1.2],\n",
       "        [ 4.9,  2.4,  3.3,  1. ],\n",
       "        [ 5.7,  2.8,  4.1,  1.3],\n",
       "        [ 5.4,  3.9,  1.7,  0.4],\n",
       "        [ 5.8,  2.7,  5.1,  1.9],\n",
       "        [ 6.1,  2.6,  5.6,  1.4],\n",
       "        [ 6.3,  2.5,  5. ,  1.9],\n",
       "        [ 6.2,  2.2,  4.5,  1.5],\n",
       "        [ 5.1,  3.5,  1.4,  0.3],\n",
       "        [ 6.4,  3.2,  5.3,  2.3],\n",
       "        [ 6.4,  3.2,  4.5,  1.5],\n",
       "        [ 6.8,  2.8,  4.8,  1.4],\n",
       "        [ 6.4,  2.8,  5.6,  2.2],\n",
       "        [ 5.6,  2.7,  4.2,  1.3],\n",
       "        [ 4.9,  3.1,  1.5,  0.1],\n",
       "        [ 7.2,  3.2,  6. ,  1.8],\n",
       "        [ 6.7,  3.3,  5.7,  2.5],\n",
       "        [ 4.8,  3.4,  1.6,  0.2],\n",
       "        [ 6.3,  2.7,  4.9,  1.8],\n",
       "        [ 5.8,  2.8,  5.1,  2.4],\n",
       "        [ 5.1,  3.8,  1.5,  0.3],\n",
       "        [ 7.7,  3. ,  6.1,  2.3],\n",
       "        [ 6.2,  2.9,  4.3,  1.3],\n",
       "        [ 5.1,  3.5,  1.4,  0.2],\n",
       "        [ 7.6,  3. ,  6.6,  2.1],\n",
       "        [ 4.8,  3. ,  1.4,  0.1],\n",
       "        [ 6.7,  3. ,  5.2,  2.3],\n",
       "        [ 6.7,  3.1,  5.6,  2.4],\n",
       "        [ 5.9,  3. ,  5.1,  1.8],\n",
       "        [ 5.7,  4.4,  1.5,  0.4],\n",
       "        [ 7.4,  2.8,  6.1,  1.9],\n",
       "        [ 5.4,  3.4,  1.5,  0.4],\n",
       "        [ 5.1,  3.3,  1.7,  0.5],\n",
       "        [ 5.5,  2.6,  4.4,  1.2],\n",
       "        [ 4.6,  3.1,  1.5,  0.2],\n",
       "        [ 5. ,  2. ,  3.5,  1. ],\n",
       "        [ 5.2,  3.5,  1.5,  0.2],\n",
       "        [ 6.7,  2.5,  5.8,  1.8],\n",
       "        [ 5.5,  2.4,  3.7,  1. ],\n",
       "        [ 6. ,  3.4,  4.5,  1.6],\n",
       "        [ 5.1,  3.7,  1.5,  0.4],\n",
       "        [ 5.7,  3. ,  4.2,  1.2],\n",
       "        [ 6.8,  3. ,  5.5,  2.1],\n",
       "        [ 6.7,  3.1,  4.4,  1.4],\n",
       "        [ 4.6,  3.4,  1.4,  0.3],\n",
       "        [ 4.5,  2.3,  1.3,  0.3],\n",
       "        [ 5.3,  3.7,  1.5,  0.2],\n",
       "        [ 6.6,  2.9,  4.6,  1.3],\n",
       "        [ 5. ,  3.5,  1.6,  0.6],\n",
       "        [ 5.5,  2.3,  4. ,  1.3],\n",
       "        [ 5. ,  3.4,  1.5,  0.2],\n",
       "        [ 6.3,  2.3,  4.4,  1.3],\n",
       "        [ 4.4,  3. ,  1.3,  0.2],\n",
       "        [ 5.2,  4.1,  1.5,  0.1],\n",
       "        [ 4.8,  3. ,  1.4,  0.3],\n",
       "        [ 5.1,  3.8,  1.6,  0.2],\n",
       "        [ 5.2,  3.4,  1.4,  0.2],\n",
       "        [ 5.7,  2.8,  4.5,  1.3],\n",
       "        [ 5.6,  2.9,  3.6,  1.3],\n",
       "        [ 7.3,  2.9,  6.3,  1.8]]), array([[ 5.8,  2.7,  4.1,  1. ],\n",
       "        [ 5. ,  3.4,  1.6,  0.4],\n",
       "        [ 6.3,  3.3,  4.7,  1.6],\n",
       "        [ 6.4,  2.7,  5.3,  1.9],\n",
       "        [ 6.1,  3. ,  4.9,  1.8],\n",
       "        [ 5.1,  2.5,  3. ,  1.1],\n",
       "        [ 5.7,  2.6,  3.5,  1. ],\n",
       "        [ 4.7,  3.2,  1.3,  0.2],\n",
       "        [ 5.5,  2.4,  3.8,  1.1],\n",
       "        [ 5.8,  4. ,  1.2,  0.2],\n",
       "        [ 4.8,  3.4,  1.9,  0.2],\n",
       "        [ 7.1,  3. ,  5.9,  2.1],\n",
       "        [ 6.2,  3.4,  5.4,  2.3],\n",
       "        [ 6. ,  2.2,  5. ,  1.5],\n",
       "        [ 5.7,  2.9,  4.2,  1.3],\n",
       "        [ 5.5,  3.5,  1.3,  0.2],\n",
       "        [ 6.4,  3.1,  5.5,  1.8],\n",
       "        [ 5.7,  3.8,  1.7,  0.3],\n",
       "        [ 5.6,  2.8,  4.9,  2. ],\n",
       "        [ 6.5,  2.8,  4.6,  1.5],\n",
       "        [ 4.4,  2.9,  1.4,  0.2],\n",
       "        [ 4.4,  3.2,  1.3,  0.2],\n",
       "        [ 4.9,  3.1,  1.5,  0.1],\n",
       "        [ 5.7,  2.5,  5. ,  2. ],\n",
       "        [ 6. ,  2.7,  5.1,  1.6],\n",
       "        [ 5.6,  3. ,  4.1,  1.3],\n",
       "        [ 5.6,  3. ,  4.5,  1.5],\n",
       "        [ 5.4,  3. ,  4.5,  1.5],\n",
       "        [ 6.7,  3.1,  4.7,  1.5],\n",
       "        [ 4.8,  3.1,  1.6,  0.2],\n",
       "        [ 6.3,  3.4,  5.6,  2.4],\n",
       "        [ 6.3,  2.8,  5.1,  1.5],\n",
       "        [ 6.2,  2.8,  4.8,  1.8],\n",
       "        [ 6.5,  3. ,  5.2,  2. ],\n",
       "        [ 5. ,  3.6,  1.4,  0.2],\n",
       "        [ 5.6,  2.5,  3.9,  1.1],\n",
       "        [ 4.9,  3.1,  1.5,  0.1],\n",
       "        [ 5.8,  2.7,  3.9,  1.2],\n",
       "        [ 4.9,  2.5,  4.5,  1.7],\n",
       "        [ 6. ,  2.9,  4.5,  1.5],\n",
       "        [ 6.9,  3.1,  5.4,  2.1],\n",
       "        [ 6.9,  3.2,  5.7,  2.3],\n",
       "        [ 6.1,  2.8,  4. ,  1.3],\n",
       "        [ 7.7,  2.8,  6.7,  2. ],\n",
       "        [ 6.4,  2.8,  5.6,  2.1],\n",
       "        [ 5.5,  2.5,  4. ,  1.3],\n",
       "        [ 5. ,  3.2,  1.2,  0.2],\n",
       "        [ 7.2,  3.6,  6.1,  2.5],\n",
       "        [ 4.9,  3. ,  1.4,  0.2],\n",
       "        [ 6.7,  3.3,  5.7,  2.1],\n",
       "        [ 6.1,  2.8,  4.7,  1.2],\n",
       "        [ 7.7,  3.8,  6.7,  2.2],\n",
       "        [ 5.1,  3.8,  1.9,  0.4],\n",
       "        [ 5.4,  3.7,  1.5,  0.2],\n",
       "        [ 7.7,  2.6,  6.9,  2.3],\n",
       "        [ 4.6,  3.2,  1.4,  0.2],\n",
       "        [ 6.8,  3.2,  5.9,  2.3],\n",
       "        [ 6.1,  3. ,  4.6,  1.4],\n",
       "        [ 6.5,  3.2,  5.1,  2. ],\n",
       "        [ 6.6,  3. ,  4.4,  1.4],\n",
       "        [ 4.6,  3.6,  1. ,  0.2],\n",
       "        [ 7. ,  3.2,  4.7,  1.4],\n",
       "        [ 5.4,  3.4,  1.7,  0.2],\n",
       "        [ 6.4,  2.9,  4.3,  1.3],\n",
       "        [ 5.4,  3.9,  1.3,  0.4],\n",
       "        [ 5.8,  2.7,  5.1,  1.9],\n",
       "        [ 6. ,  3. ,  4.8,  1.8],\n",
       "        [ 4.7,  3.2,  1.6,  0.2],\n",
       "        [ 4.3,  3. ,  1.1,  0.1],\n",
       "        [ 5.1,  3.4,  1.5,  0.2],\n",
       "        [ 6.3,  2.5,  4.9,  1.5],\n",
       "        [ 5.5,  4.2,  1.4,  0.2],\n",
       "        [ 5.9,  3.2,  4.8,  1.8],\n",
       "        [ 5. ,  3.3,  1.4,  0.2],\n",
       "        [ 6.1,  2.9,  4.7,  1.4]]), array([0, 1, 1, 2, 2, 2, 0, 2, 2, 1, 1, 2, 2, 1, 1, 1, 1, 1, 0, 2, 2, 2, 1,\n",
       "        0, 2, 1, 1, 2, 1, 0, 2, 2, 0, 2, 2, 0, 2, 1, 0, 2, 0, 2, 2, 2, 0, 2,\n",
       "        0, 0, 1, 0, 1, 0, 2, 1, 1, 0, 1, 2, 1, 0, 0, 0, 1, 0, 1, 0, 1, 0, 0,\n",
       "        0, 0, 0, 1, 1, 2]), array([1, 0, 1, 2, 2, 1, 1, 0, 1, 0, 0, 2, 2, 2, 1, 0, 2, 0, 2, 1, 0, 0, 0,\n",
       "        2, 1, 1, 1, 1, 1, 0, 2, 2, 2, 2, 0, 1, 0, 1, 2, 1, 2, 2, 1, 2, 2, 1,\n",
       "        0, 2, 0, 2, 1, 2, 0, 0, 2, 0, 2, 1, 2, 1, 0, 1, 0, 1, 0, 2, 2, 0, 0,\n",
       "        0, 1, 0, 1, 0, 1])]"
      ]
     },
     "execution_count": 46,
     "metadata": {},
     "output_type": "execute_result"
    }
   ],
   "source": [
    "train_test_split(X, y, train_size=0.5, random_state=1999)"
   ]
  },
  {
   "cell_type": "markdown",
   "metadata": {},
   "source": [
    "Let's use the k-nearest neighbors classifier by creating a knn classifier object. You then use a method called \"fit\" and give it the training data"
   ]
  },
  {
   "cell_type": "code",
   "execution_count": 49,
   "metadata": {
    "collapsed": false
   },
   "outputs": [
    {
     "data": {
      "text/plain": [
       "KNeighborsClassifier(algorithm='auto', leaf_size=30, metric='minkowski',\n",
       "           metric_params=None, n_neighbors=5, p=2, weights='uniform')"
      ]
     },
     "execution_count": 49,
     "metadata": {},
     "output_type": "execute_result"
    }
   ],
   "source": [
    "from sklearn.neighbors import KNeighborsClassifier\n",
    "classifier = KNeighborsClassifier()\n",
    "classifier.fit(train_X, train_y)\n"
   ]
  },
  {
   "cell_type": "markdown",
   "metadata": {},
   "source": [
    "Now get the predictions for the iris types and print out the fraction that's correct"
   ]
  },
  {
   "cell_type": "code",
   "execution_count": 50,
   "metadata": {
    "collapsed": false
   },
   "outputs": [
    {
     "name": "stdout",
     "output_type": "stream",
     "text": [
      "Fraction Correct\n",
      "0.96\n"
     ]
    }
   ],
   "source": [
    "pred_y = classifier.predict(test_X)\n",
    "print(\"Fraction Correct\")\n",
    "print(np.sum(pred_y == test_y) / float(len(test_y)))"
   ]
  },
  {
   "cell_type": "markdown",
   "metadata": {},
   "source": [
    "Print out the indices of the correct predictions in the prediction array and then the incorrect"
   ]
  },
  {
   "cell_type": "code",
   "execution_count": 51,
   "metadata": {
    "collapsed": false
   },
   "outputs": [
    {
     "name": "stdout",
     "output_type": "stream",
     "text": [
      "[ 0  1  2  3  4  5  6  7  8  9 10 11 12 13 14 15 16 17 18 19 20 21 22 23 25\n",
      " 26 27 28 29 30 31 32 33 34 35 36 37 39 40 41 42 43 44 45 46 47 48 49 50 51\n",
      " 52 53 54 55 56 57 58 59 60 61 62 63 64 65 66 67 68 69 70 71 73 74]\n",
      "[24 38 72]\n"
     ]
    }
   ],
   "source": [
    "correct_idx = np.where(pred_y == test_y)[0]\n",
    "print(correct_idx)\n",
    "incorrect_idx = np.where(pred_y != test_y)[0]\n",
    "print(incorrect_idx)"
   ]
  },
  {
   "cell_type": "code",
   "execution_count": 52,
   "metadata": {
    "collapsed": false
   },
   "outputs": [
    {
     "data": {
      "image/png": "[encoded data removed]",
      "text/plain": [
       "<matplotlib.figure.Figure at 0x10a118050>"
      ]
     },
     "metadata": {},
     "output_type": "display_data"
    }
   ],
   "source": [
    "# Plot two dimensions\n",
    "colors = [\"red\", \"darkblue\", \"cyan\"]\n",
    "for n, color in enumerate(colors):\n",
    "    idx = np.where(test_y == n)[0]\n",
    "    plt.scatter(test_X[idx, 0], test_X[idx, 1], color=color, label=\"Class %s\" % str(n))\n",
    "plt.scatter(test_X[incorrect_idx, 0], test_X[incorrect_idx, 1], color=\"magenta\")\n",
    "# Make xlim larger to accommodate legend\n",
    "plt.xlim(3, 9)\n",
    "plt.legend(loc=3)\n",
    "plt.title(\"Iris Classification results\")\n",
    "plt.show()"
   ]
  },
  {
   "cell_type": "code",
   "execution_count": 53,
   "metadata": {
    "collapsed": false
   },
   "outputs": [
    {
     "data": {
      "image/png": "[encoded data removed]",
      "text/plain": [
       "<matplotlib.figure.Figure at 0x109f7a8d0>"
      ]
     },
     "metadata": {},
     "output_type": "display_data"
    }
   ],
   "source": [
    "# Plot two dimensions\n",
    "colors = [\"red\", \"darkblue\", \"cyan\"]\n",
    "for n, color in enumerate(colors):\n",
    "    idx = np.where(test_y == n)[0]\n",
    "    plt.scatter(test_X[idx, 0], test_X[idx, 2], color=color, label=\"Class %s\" % str(n))\n",
    "plt.scatter(test_X[incorrect_idx, 0], test_X[incorrect_idx, 1], color=\"magenta\")\n",
    "# Make xlim larger to accommodate legend\n",
    "plt.xlim(3, 9)\n",
    "plt.legend(loc=3)\n",
    "plt.title(\"Iris Classification results\")\n",
    "plt.show()"
   ]
  },
  {
   "cell_type": "code",
   "execution_count": null,
   "metadata": {
    "collapsed": true
   },
   "outputs": [],
   "source": []
  }
 ],
 "metadata": {
  "kernelspec": {
   "display_name": "Python 2",
   "language": "python",
   "name": "python2"
  },
  "language_info": {
   "codemirror_mode": {
    "name": "ipython",
    "version": 2
   },
   "file_extension": ".py",
   "mimetype": "text/x-python",
   "name": "python",
   "nbconvert_exporter": "python",
   "pygments_lexer": "ipython2",
   "version": "2.7.10"
  }
 },
 "nbformat": 4,
 "nbformat_minor": 0
}
